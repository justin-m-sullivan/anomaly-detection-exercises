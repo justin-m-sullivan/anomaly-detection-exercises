{
 "cells": [
  {
   "cell_type": "markdown",
   "metadata": {},
   "source": [
    "# Exercises for Continuous Probabilistic Methods"
   ]
  },
  {
   "cell_type": "code",
   "execution_count": 1,
   "metadata": {},
   "outputs": [],
   "source": [
    "#imports\n",
    "import pandas as pd\n",
    "import numpy as np\n",
    "\n",
    "#viz imports\n",
    "import matplotlib.pyplot as plt\n",
    "import seaborn as sns"
   ]
  },
  {
   "cell_type": "markdown",
   "metadata": {},
   "source": [
    "### Part 1"
   ]
  },
  {
   "cell_type": "markdown",
   "metadata": {},
   "source": [
    "### 1. Define a function named get_lower_and_upper_bounds that has two arguments. The first argument is a pandas Series. The second argument is the multiplier, which should have a default argument of 1.5."
   ]
  },
  {
   "cell_type": "code",
   "execution_count": 171,
   "metadata": {},
   "outputs": [],
   "source": [
    "def print_lower_and_upper_bounds(df, multiplier=1.5):   \n",
    "    '''\n",
    "    This function takes in two arguements:\n",
    "    - data frame \n",
    "    - multiplier for iqr (default is 1.5)\n",
    "    and returns print statments stating the upper and lower bound outliers for \n",
    "    each column in the data frame \n",
    "    '''\n",
    "    for col in df:\n",
    "        if np.issubdtype(df[col].dtype, np.number):\n",
    "            quartile_01, quartile_03 = np.percentile(df[col], [25, 75])\n",
    "            iqr = quartile_03 - quartile_01\n",
    "        \n",
    "            lower_bound = round(quartile_01 -(multiplier * iqr), 3)\n",
    "            upper_bound = round(quartile_03 +(multiplier * iqr), 3)\n",
    "    \n",
    "            print(f\"The lower and upper bound of the range for '{col}' respectively is: {lower_bound} and {upper_bound}\")\n"
   ]
  },
  {
   "cell_type": "code",
   "execution_count": 172,
   "metadata": {},
   "outputs": [],
   "source": [
    "def get_lower_and_upper_bounds(col, multiplier=1.5):\n",
    "    '''\n",
    "    This function takes in two arguements:\n",
    "    - a pandas series\n",
    "    - multiplier for iqr (default is 1.5)\n",
    "    and returns lower_bound, upper_bound\n",
    "    '''\n",
    "    q1 = col.quantile(0.25)\n",
    "    q3 = col.quantile(0.75)\n",
    "\n",
    "         \n",
    "    iqr = q3 - q1\n",
    "        \n",
    "    lower_bound = round(q1 -(multiplier * iqr), 3)\n",
    "    upper_bound = round(q3 +(multiplier * iqr), 3)\n",
    "    \n",
    "    return lower_bound, upper_bound"
   ]
  },
  {
   "cell_type": "code",
   "execution_count": 179,
   "metadata": {},
   "outputs": [],
   "source": [
    "def get_outliers(df, multiplier=1.5):\n",
    "    '''\n",
    "    This function takes in 2 arguements:\n",
    "    1. data frame name\n",
    "    2. multiplier for the IQR (default is 1.5)\n",
    "    \n",
    "    It returns a print statement listing the upper and lower bounds for\n",
    "    each numeric column in the data frame.\n",
    "    \n",
    "    It returns a second print statement where any observations\n",
    "    that are classified as outliers based on the IQR \n",
    "    are listed.\n",
    "    '''\n",
    "\n",
    "    outliers = {}\n",
    "    for col in df.columns:\n",
    "        if np.issubdtype(df[col].dtype, np.number):\n",
    "            lower_bound, upper_bound = get_lower_and_upper_bounds(df[col], multiplier=multiplier)\n",
    "            print(f' Lower Bound for {col} : {lower_bound}\\n Upper bound for {col}: {upper_bound}\\n')\n",
    "            print('------') \n",
    "            outliers[col] = {}\n",
    "            outliers[col]['bounds'] = {'upper' : upper_bound, 'lower' : lower_bound}\n",
    "            outliers[col]['df'] = df[(df[col] > upper_bound) |  (df[col] < lower_bound)]\n",
    "        else:\n",
    "            pass\n",
    "        \n",
    "    [print('\\n~~~~~~~~~~\\n', key, ':\\n', outliers[key]['df']) for key in outliers]"
   ]
  },
  {
   "cell_type": "markdown",
   "metadata": {},
   "source": [
    "### Part 2"
   ]
  },
  {
   "cell_type": "markdown",
   "metadata": {},
   "source": [
    "### 1. Using lemonade.csv dataset and focusing on continuous variables:"
   ]
  },
  {
   "cell_type": "code",
   "execution_count": 174,
   "metadata": {},
   "outputs": [
    {
     "data": {
      "text/html": [
       "<div>\n",
       "<style scoped>\n",
       "    .dataframe tbody tr th:only-of-type {\n",
       "        vertical-align: middle;\n",
       "    }\n",
       "\n",
       "    .dataframe tbody tr th {\n",
       "        vertical-align: top;\n",
       "    }\n",
       "\n",
       "    .dataframe thead th {\n",
       "        text-align: right;\n",
       "    }\n",
       "</style>\n",
       "<table border=\"1\" class=\"dataframe\">\n",
       "  <thead>\n",
       "    <tr style=\"text-align: right;\">\n",
       "      <th></th>\n",
       "      <th>Date</th>\n",
       "      <th>Day</th>\n",
       "      <th>Temperature</th>\n",
       "      <th>Rainfall</th>\n",
       "      <th>Flyers</th>\n",
       "      <th>Price</th>\n",
       "      <th>Sales</th>\n",
       "    </tr>\n",
       "  </thead>\n",
       "  <tbody>\n",
       "    <tr>\n",
       "      <th>0</th>\n",
       "      <td>1/1/17</td>\n",
       "      <td>Sunday</td>\n",
       "      <td>27.0</td>\n",
       "      <td>2.00</td>\n",
       "      <td>15</td>\n",
       "      <td>0.5</td>\n",
       "      <td>10</td>\n",
       "    </tr>\n",
       "    <tr>\n",
       "      <th>1</th>\n",
       "      <td>1/2/17</td>\n",
       "      <td>Monday</td>\n",
       "      <td>28.9</td>\n",
       "      <td>1.33</td>\n",
       "      <td>15</td>\n",
       "      <td>0.5</td>\n",
       "      <td>13</td>\n",
       "    </tr>\n",
       "    <tr>\n",
       "      <th>2</th>\n",
       "      <td>1/3/17</td>\n",
       "      <td>Tuesday</td>\n",
       "      <td>34.5</td>\n",
       "      <td>1.33</td>\n",
       "      <td>27</td>\n",
       "      <td>0.5</td>\n",
       "      <td>15</td>\n",
       "    </tr>\n",
       "    <tr>\n",
       "      <th>3</th>\n",
       "      <td>1/4/17</td>\n",
       "      <td>Wednesday</td>\n",
       "      <td>44.1</td>\n",
       "      <td>1.05</td>\n",
       "      <td>28</td>\n",
       "      <td>0.5</td>\n",
       "      <td>17</td>\n",
       "    </tr>\n",
       "    <tr>\n",
       "      <th>4</th>\n",
       "      <td>1/5/17</td>\n",
       "      <td>Thursday</td>\n",
       "      <td>42.4</td>\n",
       "      <td>1.00</td>\n",
       "      <td>33</td>\n",
       "      <td>0.5</td>\n",
       "      <td>18</td>\n",
       "    </tr>\n",
       "  </tbody>\n",
       "</table>\n",
       "</div>"
      ],
      "text/plain": [
       "     Date        Day  Temperature  Rainfall  Flyers  Price  Sales\n",
       "0  1/1/17     Sunday         27.0      2.00      15    0.5     10\n",
       "1  1/2/17     Monday         28.9      1.33      15    0.5     13\n",
       "2  1/3/17    Tuesday         34.5      1.33      27    0.5     15\n",
       "3  1/4/17  Wednesday         44.1      1.05      28    0.5     17\n",
       "4  1/5/17   Thursday         42.4      1.00      33    0.5     18"
      ]
     },
     "execution_count": 174,
     "metadata": {},
     "output_type": "execute_result"
    }
   ],
   "source": [
    "#Aquire the data\n",
    "url = 'https://gist.githubusercontent.com/ryanorsinger/19bc7eccd6279661bd13307026628ace/raw/e4b5d6787015a4782f96cad6d1d62a8bdbac54c7/lemonade.csv'\n",
    "\n",
    "df = pd.read_csv(url)\n",
    "\n",
    "df.head()"
   ]
  },
  {
   "cell_type": "code",
   "execution_count": 175,
   "metadata": {},
   "outputs": [],
   "source": [
    "#Convert the date column to datetime format\n",
    "df.Date = pd.to_datetime(df.Date)\n",
    "\n",
    "#Set the date as the index\n",
    "df = df.set_index('Date')"
   ]
  },
  {
   "cell_type": "markdown",
   "metadata": {},
   "source": [
    "#### a. Use the IQR Range Rule and the upper and lower bounds to identify the lower outliers of each column of lemonade.csv, using the multiplier of 1.5. Do these lower outliers make sense?Which outliers should be kept?"
   ]
  },
  {
   "cell_type": "code",
   "execution_count": 176,
   "metadata": {},
   "outputs": [
    {
     "name": "stdout",
     "output_type": "stream",
     "text": [
      "The lower and upper bound of the range for 'Temperature' respectively is: 16.7 and 104.7\n",
      "The lower and upper bound of the range for 'Rainfall' respectively is: 0.26 and 1.3\n",
      "The lower and upper bound of the range for 'Flyers' respectively is: 4.0 and 76.0\n",
      "The lower and upper bound of the range for 'Price' respectively is: 0.5 and 0.5\n",
      "The lower and upper bound of the range for 'Sales' respectively is: 5.0 and 45.0\n"
     ]
    }
   ],
   "source": [
    "#Get upper and lower bounds with a multiplier of 1.5\n",
    "print_lower_and_upper_bounds(df)"
   ]
  },
  {
   "cell_type": "code",
   "execution_count": 180,
   "metadata": {},
   "outputs": [
    {
     "name": "stdout",
     "output_type": "stream",
     "text": [
      " Lower Bound for Temperature : 16.7\n",
      " Upper bound for Temperature: 104.7\n",
      "\n",
      "------\n",
      " Lower Bound for Rainfall : 0.26\n",
      " Upper bound for Rainfall: 1.3\n",
      "\n",
      "------\n",
      " Lower Bound for Flyers : 4.0\n",
      " Upper bound for Flyers: 76.0\n",
      "\n",
      "------\n",
      " Lower Bound for Price : 0.5\n",
      " Upper bound for Price: 0.5\n",
      "\n",
      "------\n",
      " Lower Bound for Sales : 5.0\n",
      " Upper bound for Sales: 45.0\n",
      "\n",
      "------\n",
      "\n",
      "~~~~~~~~~~\n",
      " Temperature :\n",
      "                  Day  Temperature  Rainfall  Flyers  Price  Sales\n",
      "Date                                                             \n",
      "2017-02-11  Saturday        212.0      0.91      35    0.5     21\n",
      "2017-12-31    Sunday         15.1      2.50       9    0.5      7\n",
      "\n",
      "~~~~~~~~~~\n",
      " Rainfall :\n",
      "                   Day  Temperature  Rainfall  Flyers  Price  Sales\n",
      "Date                                                              \n",
      "2017-01-01     Sunday         27.0      2.00      15    0.5     10\n",
      "2017-01-02     Monday         28.9      1.33      15    0.5     13\n",
      "2017-01-03    Tuesday         34.5      1.33      27    0.5     15\n",
      "2017-01-06     Friday         25.3      1.54      23    0.5     11\n",
      "2017-01-07   Saturday         32.9      1.54      19    0.5     13\n",
      "2017-01-11  Wednesday         32.6      1.54      23    0.5     12\n",
      "2017-01-12   Thursday         38.2      1.33      16    0.5     14\n",
      "2017-01-13     Friday         37.5      1.33      19    0.5     15\n",
      "2017-01-16     Monday         30.6      1.67      24    0.5     12\n",
      "2017-01-17    Tuesday         32.2      1.43      26    0.5     14\n",
      "2017-01-20     Friday         31.6      1.43      20    0.5     12\n",
      "2017-01-24    Tuesday         28.6      1.54      20    0.5     12\n",
      "2017-01-28   Saturday         34.9      1.33      15    0.5     13\n",
      "2017-01-29     Sunday         35.2      1.33      27    0.5     14\n",
      "2017-12-04     Monday         34.9      1.54      16    0.5     13\n",
      "2017-12-05    Tuesday         22.0      1.82      11    0.5     10\n",
      "2017-12-09   Saturday         31.2      1.43      19    0.5     14\n",
      "2017-12-10     Sunday         31.3      1.82      15    0.5     11\n",
      "2017-12-12    Tuesday         33.5      1.33      22    0.5     15\n",
      "2017-12-13  Wednesday         32.2      1.43      26    0.5     14\n",
      "2017-12-14   Thursday         31.9      1.54      24    0.5     13\n",
      "2017-12-17     Sunday         32.2      1.33      16    0.5     14\n",
      "2017-12-18     Monday         30.9      1.43      27    0.5     13\n",
      "2017-12-21   Thursday         40.5      1.33      23    0.5     15\n",
      "2017-12-22     Friday         30.9      1.54      17    0.5     13\n",
      "2017-12-26    Tuesday         28.9      1.43      23    0.5     13\n",
      "2017-12-30   Saturday         30.9      1.43      22    0.5     13\n",
      "2017-12-31     Sunday         15.1      2.50       9    0.5      7\n",
      "\n",
      "~~~~~~~~~~\n",
      " Flyers :\n",
      "                 Day  Temperature  Rainfall  Flyers  Price  Sales\n",
      "Date                                                            \n",
      "2017-06-16   Friday         99.3      0.47      77    0.5     41\n",
      "2017-07-14   Friday         92.0      0.50      80    0.5     40\n",
      "2017-11-21  Tuesday         47.0      0.95     -38    0.5     20\n",
      "\n",
      "~~~~~~~~~~\n",
      " Price :\n",
      " Empty DataFrame\n",
      "Columns: [Day, Temperature, Rainfall, Flyers, Price, Sales]\n",
      "Index: []\n",
      "\n",
      "~~~~~~~~~~\n",
      " Sales :\n",
      "                  Day  Temperature  Rainfall  Flyers  Price  Sales\n",
      "Date                                                             \n",
      "2017-07-01  Saturday        102.9      0.47      59    0.5    143\n",
      "2017-07-02    Sunday         93.4      0.51      68    0.5    158\n",
      "2017-07-03    Monday         81.5      0.54      68    0.5    235\n",
      "2017-07-04   Tuesday         84.2      0.59      49    0.5    534\n"
     ]
    }
   ],
   "source": [
    "#Use get_outliers function to get the outliers in Temperature\n",
    "get_outliers(df)"
   ]
  },
  {
   "cell_type": "markdown",
   "metadata": {},
   "source": [
    "**Takeaways:**\n",
    "- The outliers from the Sales column:\n",
    "    - Observation 181 = Should be kept bc it was a weekend and a very hot day...high lemonade sales makes sense\n",
    "    - Observation 182 = Hot, Weekend Day...keep the observation\n",
    "    - Observation 183 = Monday, not so hot...would say remove except for the fact that the next day is 4th of July\n",
    "    - Observation 184 = 4th of July and warm...quintessential Lemonade day. Keep!\n",
    "    \n",
    "- The outliers from the Price Column:\n",
    "    - None as expected\n",
    "    \n",
    "- The outliers from the Flyers columns:\n",
    "    - Need to deal with neg flyers\n",
    "    \n",
    "- The Outliers in Rainfall:\n",
    "    - Nothing looks too abnormal here\n",
    "    \n",
    "- The outliers in Temp:\n",
    "    - 212 degrees must be a typo?"
   ]
  },
  {
   "cell_type": "markdown",
   "metadata": {},
   "source": [
    "#### b. Use the IQR Range Rule and the upper and lower bounds to identify the upper outliers of each column of lemonade.csv, using the multiplier of 1.5. Do these lower outliers make sense?Which outliers should be kept?"
   ]
  },
  {
   "cell_type": "markdown",
   "metadata": {},
   "source": [
    "- Completed above"
   ]
  },
  {
   "cell_type": "markdown",
   "metadata": {},
   "source": [
    "#### c. Using the multiplier of 3, IQR Range Rule, and the lower and upper bounds, identify the outliers below the lower bound in each colum of lemonade.csv. Do these lower outliers make sense?Which outliers should be kept?"
   ]
  },
  {
   "cell_type": "code",
   "execution_count": 14,
   "metadata": {},
   "outputs": [
    {
     "name": "stdout",
     "output_type": "stream",
     "text": [
      "The lower and upper bound of the range for 'Temperature' respectively is: -16.3 and 137.7\n",
      "The lower and upper bound of the range for 'Rainfall' respectively is: -0.13 and 1.69\n",
      "The lower and upper bound of the range for 'Flyers' respectively is: -23.0 and 103.0\n",
      "The lower and upper bound of the range for 'Price' respectively is: 0.5 and 0.5\n",
      "The lower and upper bound of the range for 'Sales' respectively is: -10.0 and 60.0\n"
     ]
    }
   ],
   "source": [
    "#Print the lower and upperbounds for each column with a mulyiplier of 3 \n",
    "print_lower_and_upper_bounds(df, 3)"
   ]
  },
  {
   "cell_type": "code",
   "execution_count": 181,
   "metadata": {},
   "outputs": [
    {
     "name": "stdout",
     "output_type": "stream",
     "text": [
      " Lower Bound for Temperature : -16.3\n",
      " Upper bound for Temperature: 137.7\n",
      "\n",
      "------\n",
      " Lower Bound for Rainfall : -0.13\n",
      " Upper bound for Rainfall: 1.69\n",
      "\n",
      "------\n",
      " Lower Bound for Flyers : -23.0\n",
      " Upper bound for Flyers: 103.0\n",
      "\n",
      "------\n",
      " Lower Bound for Price : 0.5\n",
      " Upper bound for Price: 0.5\n",
      "\n",
      "------\n",
      " Lower Bound for Sales : -10.0\n",
      " Upper bound for Sales: 60.0\n",
      "\n",
      "------\n",
      "\n",
      "~~~~~~~~~~\n",
      " Temperature :\n",
      "                  Day  Temperature  Rainfall  Flyers  Price  Sales\n",
      "Date                                                             \n",
      "2017-02-11  Saturday        212.0      0.91      35    0.5     21\n",
      "\n",
      "~~~~~~~~~~\n",
      " Rainfall :\n",
      "                 Day  Temperature  Rainfall  Flyers  Price  Sales\n",
      "Date                                                            \n",
      "2017-01-01   Sunday         27.0      2.00      15    0.5     10\n",
      "2017-12-05  Tuesday         22.0      1.82      11    0.5     10\n",
      "2017-12-10   Sunday         31.3      1.82      15    0.5     11\n",
      "2017-12-31   Sunday         15.1      2.50       9    0.5      7\n",
      "\n",
      "~~~~~~~~~~\n",
      " Flyers :\n",
      "                 Day  Temperature  Rainfall  Flyers  Price  Sales\n",
      "Date                                                            \n",
      "2017-11-21  Tuesday         47.0      0.95     -38    0.5     20\n",
      "\n",
      "~~~~~~~~~~\n",
      " Price :\n",
      " Empty DataFrame\n",
      "Columns: [Day, Temperature, Rainfall, Flyers, Price, Sales]\n",
      "Index: []\n",
      "\n",
      "~~~~~~~~~~\n",
      " Sales :\n",
      "                  Day  Temperature  Rainfall  Flyers  Price  Sales\n",
      "Date                                                             \n",
      "2017-07-01  Saturday        102.9      0.47      59    0.5    143\n",
      "2017-07-02    Sunday         93.4      0.51      68    0.5    158\n",
      "2017-07-03    Monday         81.5      0.54      68    0.5    235\n",
      "2017-07-04   Tuesday         84.2      0.59      49    0.5    534\n"
     ]
    }
   ],
   "source": [
    "#Get the outliers\n",
    "get_outliers(df, multiplier=3)"
   ]
  },
  {
   "cell_type": "markdown",
   "metadata": {},
   "source": [
    "**Takeaways:**\n",
    "- Nothing new discovered here"
   ]
  },
  {
   "cell_type": "markdown",
   "metadata": {},
   "source": [
    "## 2. Identify if any columns in lemonade.csv are normally distributed. For normally distributed columns:"
   ]
  },
  {
   "cell_type": "code",
   "execution_count": 17,
   "metadata": {
    "scrolled": true
   },
   "outputs": [
    {
     "name": "stdout",
     "output_type": "stream",
     "text": [
      "Temperature\n"
     ]
    },
    {
     "data": {
      "image/png": "[encoded data removed]",
      "text/plain": [
       "<Figure size 432x288 with 1 Axes>"
      ]
     },
     "metadata": {
      "needs_background": "light"
     },
     "output_type": "display_data"
    },
    {
     "name": "stdout",
     "output_type": "stream",
     "text": [
      "Rainfall\n"
     ]
    },
    {
     "data": {
      "image/png": "[encoded data removed]",
      "text/plain": [
       "<Figure size 432x288 with 1 Axes>"
      ]
     },
     "metadata": {
      "needs_background": "light"
     },
     "output_type": "display_data"
    },
    {
     "name": "stdout",
     "output_type": "stream",
     "text": [
      "Flyers\n"
     ]
    },
    {
     "data": {
      "image/png": "[encoded data removed]",
      "text/plain": [
       "<Figure size 432x288 with 1 Axes>"
      ]
     },
     "metadata": {
      "needs_background": "light"
     },
     "output_type": "display_data"
    },
    {
     "name": "stdout",
     "output_type": "stream",
     "text": [
      "Price\n"
     ]
    },
    {
     "data": {
      "image/png": "[encoded data removed]",
      "text/plain": [
       "<Figure size 432x288 with 1 Axes>"
      ]
     },
     "metadata": {
      "needs_background": "light"
     },
     "output_type": "display_data"
    },
    {
     "name": "stdout",
     "output_type": "stream",
     "text": [
      "Sales\n"
     ]
    },
    {
     "data": {
      "image/png": "[encoded data removed]",
      "text/plain": [
       "<Figure size 432x288 with 1 Axes>"
      ]
     },
     "metadata": {
      "needs_background": "light"
     },
     "output_type": "display_data"
    }
   ],
   "source": [
    "#Plot hist for each column to check distribution\n",
    "for col in df.columns:\n",
    "    if np.issubdtype(df[col].dtype, np.number):\n",
    "        df[col].hist()\n",
    "        print(col)\n",
    "        plt.show()"
   ]
  },
  {
   "cell_type": "markdown",
   "metadata": {},
   "source": [
    "**Normally Distributed:**<br>\n",
    "    - Temp<br>\n",
    "    - Flyers? How do you have negative 40?"
   ]
  },
  {
   "cell_type": "markdown",
   "metadata": {},
   "source": [
    "- a. Use a 2 sigma decision rule to isolate the outliers."
   ]
  },
  {
   "cell_type": "code",
   "execution_count": 183,
   "metadata": {},
   "outputs": [],
   "source": [
    "#Calculate z-scores for temp\n",
    "df['z_score_temp'] = (df['Temperature'] - df['Temperature'].mean()) / df['Temperature'].std()"
   ]
  },
  {
   "cell_type": "code",
   "execution_count": 189,
   "metadata": {},
   "outputs": [
    {
     "data": {
      "text/html": [
       "<div>\n",
       "<style scoped>\n",
       "    .dataframe tbody tr th:only-of-type {\n",
       "        vertical-align: middle;\n",
       "    }\n",
       "\n",
       "    .dataframe tbody tr th {\n",
       "        vertical-align: top;\n",
       "    }\n",
       "\n",
       "    .dataframe thead th {\n",
       "        text-align: right;\n",
       "    }\n",
       "</style>\n",
       "<table border=\"1\" class=\"dataframe\">\n",
       "  <thead>\n",
       "    <tr style=\"text-align: right;\">\n",
       "      <th></th>\n",
       "      <th>Day</th>\n",
       "      <th>Temperature</th>\n",
       "      <th>Rainfall</th>\n",
       "      <th>Flyers</th>\n",
       "      <th>Price</th>\n",
       "      <th>Sales</th>\n",
       "      <th>z_score_temp</th>\n",
       "      <th>z_score_rain</th>\n",
       "      <th>z_score_flyers</th>\n",
       "      <th>z_score_sales</th>\n",
       "    </tr>\n",
       "    <tr>\n",
       "      <th>Date</th>\n",
       "      <th></th>\n",
       "      <th></th>\n",
       "      <th></th>\n",
       "      <th></th>\n",
       "      <th></th>\n",
       "      <th></th>\n",
       "      <th></th>\n",
       "      <th></th>\n",
       "      <th></th>\n",
       "      <th></th>\n",
       "    </tr>\n",
       "  </thead>\n",
       "  <tbody>\n",
       "    <tr>\n",
       "      <th>2017-02-11</th>\n",
       "      <td>Saturday</td>\n",
       "      <td>212.0</td>\n",
       "      <td>0.91</td>\n",
       "      <td>35</td>\n",
       "      <td>0.5</td>\n",
       "      <td>21</td>\n",
       "      <td>8.336627</td>\n",
       "      <td>0.306792</td>\n",
       "      <td>-0.370227</td>\n",
       "      <td>-0.221847</td>\n",
       "    </tr>\n",
       "  </tbody>\n",
       "</table>\n",
       "</div>"
      ],
      "text/plain": [
       "                 Day  Temperature  Rainfall  Flyers  Price  Sales  \\\n",
       "Date                                                                \n",
       "2017-02-11  Saturday        212.0      0.91      35    0.5     21   \n",
       "\n",
       "            z_score_temp  z_score_rain  z_score_flyers  z_score_sales  \n",
       "Date                                                                   \n",
       "2017-02-11      8.336627      0.306792       -0.370227      -0.221847  "
      ]
     },
     "execution_count": 189,
     "metadata": {},
     "output_type": "execute_result"
    }
   ],
   "source": [
    "#isloate the observations where zscore for temp is greater than 2 std\n",
    "df[df.z_score_temp.abs() > 3]"
   ]
  },
  {
   "cell_type": "code",
   "execution_count": 190,
   "metadata": {},
   "outputs": [
    {
     "data": {
      "text/html": [
       "<div>\n",
       "<style scoped>\n",
       "    .dataframe tbody tr th:only-of-type {\n",
       "        vertical-align: middle;\n",
       "    }\n",
       "\n",
       "    .dataframe tbody tr th {\n",
       "        vertical-align: top;\n",
       "    }\n",
       "\n",
       "    .dataframe thead th {\n",
       "        text-align: right;\n",
       "    }\n",
       "</style>\n",
       "<table border=\"1\" class=\"dataframe\">\n",
       "  <thead>\n",
       "    <tr style=\"text-align: right;\">\n",
       "      <th></th>\n",
       "      <th>Day</th>\n",
       "      <th>Temperature</th>\n",
       "      <th>Rainfall</th>\n",
       "      <th>Flyers</th>\n",
       "      <th>Price</th>\n",
       "      <th>Sales</th>\n",
       "      <th>z_score_temp</th>\n",
       "      <th>z_score_rain</th>\n",
       "      <th>z_score_flyers</th>\n",
       "      <th>z_score_sales</th>\n",
       "    </tr>\n",
       "    <tr>\n",
       "      <th>Date</th>\n",
       "      <th></th>\n",
       "      <th></th>\n",
       "      <th></th>\n",
       "      <th></th>\n",
       "      <th></th>\n",
       "      <th></th>\n",
       "      <th></th>\n",
       "      <th></th>\n",
       "      <th></th>\n",
       "      <th></th>\n",
       "    </tr>\n",
       "  </thead>\n",
       "  <tbody>\n",
       "    <tr>\n",
       "      <th>2017-01-01</th>\n",
       "      <td>Sunday</td>\n",
       "      <td>27.0</td>\n",
       "      <td>2.00</td>\n",
       "      <td>15</td>\n",
       "      <td>0.5</td>\n",
       "      <td>10</td>\n",
       "      <td>-1.892340</td>\n",
       "      <td>4.286488</td>\n",
       "      <td>-1.820927</td>\n",
       "      <td>-0.577281</td>\n",
       "    </tr>\n",
       "    <tr>\n",
       "      <th>2017-01-16</th>\n",
       "      <td>Monday</td>\n",
       "      <td>30.6</td>\n",
       "      <td>1.67</td>\n",
       "      <td>24</td>\n",
       "      <td>0.5</td>\n",
       "      <td>12</td>\n",
       "      <td>-1.693290</td>\n",
       "      <td>3.081626</td>\n",
       "      <td>-1.168112</td>\n",
       "      <td>-0.512656</td>\n",
       "    </tr>\n",
       "    <tr>\n",
       "      <th>2017-12-05</th>\n",
       "      <td>Tuesday</td>\n",
       "      <td>22.0</td>\n",
       "      <td>1.82</td>\n",
       "      <td>11</td>\n",
       "      <td>0.5</td>\n",
       "      <td>10</td>\n",
       "      <td>-2.168799</td>\n",
       "      <td>3.629291</td>\n",
       "      <td>-2.111067</td>\n",
       "      <td>-0.577281</td>\n",
       "    </tr>\n",
       "    <tr>\n",
       "      <th>2017-12-10</th>\n",
       "      <td>Sunday</td>\n",
       "      <td>31.3</td>\n",
       "      <td>1.82</td>\n",
       "      <td>15</td>\n",
       "      <td>0.5</td>\n",
       "      <td>11</td>\n",
       "      <td>-1.654586</td>\n",
       "      <td>3.629291</td>\n",
       "      <td>-1.820927</td>\n",
       "      <td>-0.544968</td>\n",
       "    </tr>\n",
       "    <tr>\n",
       "      <th>2017-12-31</th>\n",
       "      <td>Sunday</td>\n",
       "      <td>15.1</td>\n",
       "      <td>2.50</td>\n",
       "      <td>9</td>\n",
       "      <td>0.5</td>\n",
       "      <td>7</td>\n",
       "      <td>-2.550311</td>\n",
       "      <td>6.112037</td>\n",
       "      <td>-2.256137</td>\n",
       "      <td>-0.674217</td>\n",
       "    </tr>\n",
       "  </tbody>\n",
       "</table>\n",
       "</div>"
      ],
      "text/plain": [
       "                Day  Temperature  Rainfall  Flyers  Price  Sales  \\\n",
       "Date                                                               \n",
       "2017-01-01   Sunday         27.0      2.00      15    0.5     10   \n",
       "2017-01-16   Monday         30.6      1.67      24    0.5     12   \n",
       "2017-12-05  Tuesday         22.0      1.82      11    0.5     10   \n",
       "2017-12-10   Sunday         31.3      1.82      15    0.5     11   \n",
       "2017-12-31   Sunday         15.1      2.50       9    0.5      7   \n",
       "\n",
       "            z_score_temp  z_score_rain  z_score_flyers  z_score_sales  \n",
       "Date                                                                   \n",
       "2017-01-01     -1.892340      4.286488       -1.820927      -0.577281  \n",
       "2017-01-16     -1.693290      3.081626       -1.168112      -0.512656  \n",
       "2017-12-05     -2.168799      3.629291       -2.111067      -0.577281  \n",
       "2017-12-10     -1.654586      3.629291       -1.820927      -0.544968  \n",
       "2017-12-31     -2.550311      6.112037       -2.256137      -0.674217  "
      ]
     },
     "execution_count": 190,
     "metadata": {},
     "output_type": "execute_result"
    }
   ],
   "source": [
    "#Calculate z-scores for rainfall\n",
    "df['z_score_rain'] = (df['Rainfall'] - df['Rainfall'].mean()) / df['Rainfall'].std()\n",
    "\n",
    "#isloate the observations where zscore for rainfall is greater than 2 std\n",
    "df[df.z_score_rain.abs() > 3]"
   ]
  },
  {
   "cell_type": "code",
   "execution_count": 191,
   "metadata": {},
   "outputs": [
    {
     "data": {
      "text/html": [
       "<div>\n",
       "<style scoped>\n",
       "    .dataframe tbody tr th:only-of-type {\n",
       "        vertical-align: middle;\n",
       "    }\n",
       "\n",
       "    .dataframe tbody tr th {\n",
       "        vertical-align: top;\n",
       "    }\n",
       "\n",
       "    .dataframe thead th {\n",
       "        text-align: right;\n",
       "    }\n",
       "</style>\n",
       "<table border=\"1\" class=\"dataframe\">\n",
       "  <thead>\n",
       "    <tr style=\"text-align: right;\">\n",
       "      <th></th>\n",
       "      <th>Day</th>\n",
       "      <th>Temperature</th>\n",
       "      <th>Rainfall</th>\n",
       "      <th>Flyers</th>\n",
       "      <th>Price</th>\n",
       "      <th>Sales</th>\n",
       "      <th>z_score_temp</th>\n",
       "      <th>z_score_rain</th>\n",
       "      <th>z_score_flyers</th>\n",
       "      <th>z_score_sales</th>\n",
       "    </tr>\n",
       "    <tr>\n",
       "      <th>Date</th>\n",
       "      <th></th>\n",
       "      <th></th>\n",
       "      <th></th>\n",
       "      <th></th>\n",
       "      <th></th>\n",
       "      <th></th>\n",
       "      <th></th>\n",
       "      <th></th>\n",
       "      <th></th>\n",
       "      <th></th>\n",
       "    </tr>\n",
       "  </thead>\n",
       "  <tbody>\n",
       "    <tr>\n",
       "      <th>2017-11-21</th>\n",
       "      <td>Tuesday</td>\n",
       "      <td>47.0</td>\n",
       "      <td>0.95</td>\n",
       "      <td>-38</td>\n",
       "      <td>0.5</td>\n",
       "      <td>20</td>\n",
       "      <td>-0.786506</td>\n",
       "      <td>0.452836</td>\n",
       "      <td>-5.665283</td>\n",
       "      <td>-0.254159</td>\n",
       "    </tr>\n",
       "  </tbody>\n",
       "</table>\n",
       "</div>"
      ],
      "text/plain": [
       "                Day  Temperature  Rainfall  Flyers  Price  Sales  \\\n",
       "Date                                                               \n",
       "2017-11-21  Tuesday         47.0      0.95     -38    0.5     20   \n",
       "\n",
       "            z_score_temp  z_score_rain  z_score_flyers  z_score_sales  \n",
       "Date                                                                   \n",
       "2017-11-21     -0.786506      0.452836       -5.665283      -0.254159  "
      ]
     },
     "execution_count": 191,
     "metadata": {},
     "output_type": "execute_result"
    }
   ],
   "source": [
    "#Calculate z-scores for flyers\n",
    "df['z_score_flyers'] = (df['Flyers'] - df['Flyers'].mean()) / df['Flyers'].std()\n",
    "\n",
    "#isloate the observations where zscore for flyers is greater than 2 std\n",
    "df[df.z_score_flyers.abs() > 3]"
   ]
  },
  {
   "cell_type": "code",
   "execution_count": 192,
   "metadata": {},
   "outputs": [
    {
     "data": {
      "text/html": [
       "<div>\n",
       "<style scoped>\n",
       "    .dataframe tbody tr th:only-of-type {\n",
       "        vertical-align: middle;\n",
       "    }\n",
       "\n",
       "    .dataframe tbody tr th {\n",
       "        vertical-align: top;\n",
       "    }\n",
       "\n",
       "    .dataframe thead th {\n",
       "        text-align: right;\n",
       "    }\n",
       "</style>\n",
       "<table border=\"1\" class=\"dataframe\">\n",
       "  <thead>\n",
       "    <tr style=\"text-align: right;\">\n",
       "      <th></th>\n",
       "      <th>Day</th>\n",
       "      <th>Temperature</th>\n",
       "      <th>Rainfall</th>\n",
       "      <th>Flyers</th>\n",
       "      <th>Price</th>\n",
       "      <th>Sales</th>\n",
       "      <th>z_score_temp</th>\n",
       "      <th>z_score_rain</th>\n",
       "      <th>z_score_flyers</th>\n",
       "      <th>z_score_sales</th>\n",
       "    </tr>\n",
       "    <tr>\n",
       "      <th>Date</th>\n",
       "      <th></th>\n",
       "      <th></th>\n",
       "      <th></th>\n",
       "      <th></th>\n",
       "      <th></th>\n",
       "      <th></th>\n",
       "      <th></th>\n",
       "      <th></th>\n",
       "      <th></th>\n",
       "      <th></th>\n",
       "    </tr>\n",
       "  </thead>\n",
       "  <tbody>\n",
       "    <tr>\n",
       "      <th>2017-07-01</th>\n",
       "      <td>Saturday</td>\n",
       "      <td>102.9</td>\n",
       "      <td>0.47</td>\n",
       "      <td>59</td>\n",
       "      <td>0.5</td>\n",
       "      <td>143</td>\n",
       "      <td>2.304301</td>\n",
       "      <td>-1.299691</td>\n",
       "      <td>1.370614</td>\n",
       "      <td>3.720233</td>\n",
       "    </tr>\n",
       "    <tr>\n",
       "      <th>2017-07-02</th>\n",
       "      <td>Sunday</td>\n",
       "      <td>93.4</td>\n",
       "      <td>0.51</td>\n",
       "      <td>68</td>\n",
       "      <td>0.5</td>\n",
       "      <td>158</td>\n",
       "      <td>1.779030</td>\n",
       "      <td>-1.153647</td>\n",
       "      <td>2.023429</td>\n",
       "      <td>4.204914</td>\n",
       "    </tr>\n",
       "    <tr>\n",
       "      <th>2017-07-03</th>\n",
       "      <td>Monday</td>\n",
       "      <td>81.5</td>\n",
       "      <td>0.54</td>\n",
       "      <td>68</td>\n",
       "      <td>0.5</td>\n",
       "      <td>235</td>\n",
       "      <td>1.121058</td>\n",
       "      <td>-1.044114</td>\n",
       "      <td>2.023429</td>\n",
       "      <td>6.692948</td>\n",
       "    </tr>\n",
       "    <tr>\n",
       "      <th>2017-07-04</th>\n",
       "      <td>Tuesday</td>\n",
       "      <td>84.2</td>\n",
       "      <td>0.59</td>\n",
       "      <td>49</td>\n",
       "      <td>0.5</td>\n",
       "      <td>534</td>\n",
       "      <td>1.270346</td>\n",
       "      <td>-0.861559</td>\n",
       "      <td>0.645264</td>\n",
       "      <td>16.354275</td>\n",
       "    </tr>\n",
       "  </tbody>\n",
       "</table>\n",
       "</div>"
      ],
      "text/plain": [
       "                 Day  Temperature  Rainfall  Flyers  Price  Sales  \\\n",
       "Date                                                                \n",
       "2017-07-01  Saturday        102.9      0.47      59    0.5    143   \n",
       "2017-07-02    Sunday         93.4      0.51      68    0.5    158   \n",
       "2017-07-03    Monday         81.5      0.54      68    0.5    235   \n",
       "2017-07-04   Tuesday         84.2      0.59      49    0.5    534   \n",
       "\n",
       "            z_score_temp  z_score_rain  z_score_flyers  z_score_sales  \n",
       "Date                                                                   \n",
       "2017-07-01      2.304301     -1.299691        1.370614       3.720233  \n",
       "2017-07-02      1.779030     -1.153647        2.023429       4.204914  \n",
       "2017-07-03      1.121058     -1.044114        2.023429       6.692948  \n",
       "2017-07-04      1.270346     -0.861559        0.645264      16.354275  "
      ]
     },
     "execution_count": 192,
     "metadata": {},
     "output_type": "execute_result"
    }
   ],
   "source": [
    "#Calculate z-scores for Sales\n",
    "df['z_score_sales'] = (df['Sales'] - df['Sales'].mean()) / df['Sales'].std()\n",
    "\n",
    "#isloate the observations where zscore for Sales is greater than 2 std\n",
    "df[df.z_score_sales.abs() > 3]"
   ]
  },
  {
   "cell_type": "markdown",
   "metadata": {},
   "source": [
    "- b. Do these make sense? Yes\n",
    "- c. Should certain outliers be kept or removed? Already addressed in IQR"
   ]
  },
  {
   "cell_type": "markdown",
   "metadata": {},
   "source": [
    "## 3. Now use a 3 sigma decision rule to isolate the outliers in the normally distributed columns from lemonade.csv"
   ]
  },
  {
   "cell_type": "markdown",
   "metadata": {},
   "source": [
    "**I reran the code above and replaced with 3 to complete this.**<br>\n",
    "**No new takeaways regarding outliers were obtained from using 2/3 sigma rules vs using the IQR**"
   ]
  },
  {
   "cell_type": "code",
   "execution_count": null,
   "metadata": {},
   "outputs": [],
   "source": []
  }
 ],
 "metadata": {
  "kernelspec": {
   "display_name": "Python 3",
   "language": "python",
   "name": "python3"
  },
  "language_info": {
   "codemirror_mode": {
    "name": "ipython",
    "version": 3
   },
   "file_extension": ".py",
   "mimetype": "text/x-python",
   "name": "python",
   "nbconvert_exporter": "python",
   "pygments_lexer": "ipython3",
   "version": "3.8.5"
  }
 },
 "nbformat": 4,
 "nbformat_minor": 4
}
